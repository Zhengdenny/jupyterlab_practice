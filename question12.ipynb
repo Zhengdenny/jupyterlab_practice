{
 "cells": [
  {
   "cell_type": "markdown",
   "id": "878d00d2-43fa-4755-b994-59ad71a1e531",
   "metadata": {},
   "source": [
    "`We are currently working in the following directory:`"
   ]
  },
  {
   "cell_type": "code",
   "execution_count": 1,
   "id": "bbcc21b7-0158-420c-a841-4a496c668226",
   "metadata": {},
   "outputs": [
    {
     "name": "stdout",
     "output_type": "stream",
     "text": [
      "/c/Users/crazy/jupyterlab_practice\n"
     ]
    }
   ],
   "source": [
    "!pwd"
   ]
  },
  {
   "cell_type": "markdown",
   "id": "3be543ca-50b0-43b4-bb11-83d62b9b5226",
   "metadata": {},
   "source": [
    "To time how long it takes to run a Python cell, we could use the timeit command inside a cell as is shown below: Followed by the proper use of the timeit command to time the following loop\n",
    "\n",
    ">```\n",
    ">%%timeit\n",
    ">\n",
    ">    for i in range(1_000_000):\n",
    ">        i**2\n",
    ">```"
   ]
  },
  {
   "cell_type": "code",
   "execution_count": 3,
   "id": "29580a43-9dcd-4834-b69d-968ef8a1dd96",
   "metadata": {},
   "outputs": [
    {
     "name": "stderr",
     "output_type": "stream",
     "text": [
      "[NbConvertApp] Converting notebook question12.ipynb to html\n",
      "[NbConvertApp] Writing 271138 bytes to output-filename.html\n"
     ]
    }
   ],
   "source": [
    "#Export notebook without code cells\n",
    "!jupyter nbconvert question12.ipynb \\\n",
    "    --to html \\\n",
    "    --output=output-filename.html \\\n",
    "    --no-input"
   ]
  }
 ],
 "metadata": {
  "kernelspec": {
   "display_name": "Python [conda env:base] *",
   "language": "python",
   "name": "conda-base-py"
  },
  "language_info": {
   "codemirror_mode": {
    "name": "ipython",
    "version": 3
   },
   "file_extension": ".py",
   "mimetype": "text/x-python",
   "name": "python",
   "nbconvert_exporter": "python",
   "pygments_lexer": "ipython3",
   "version": "3.13.5"
  }
 },
 "nbformat": 4,
 "nbformat_minor": 5
}
