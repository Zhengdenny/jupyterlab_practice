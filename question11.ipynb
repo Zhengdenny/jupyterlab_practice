{
 "cells": [
  {
   "cell_type": "markdown",
   "id": "95ba280d-0eeb-49d8-bd85-ac381d2d717a",
   "metadata": {},
   "source": [
    "\n",
    "# Notebook for assignment 7\n"
   ]
  },
  {
   "cell_type": "code",
   "execution_count": 1,
   "id": "d3dea6d3-f743-4ffb-80a0-92347c576588",
   "metadata": {
    "scrolled": true
   },
   "outputs": [
    {
     "name": "stdout",
     "output_type": "stream",
     "text": [
      "5.0\n"
     ]
    }
   ],
   "source": [
    "def compute_mean(numbers):\n",
    "    if not numbers: \n",
    "        return 0\n",
    "    return sum(numbers) /len(numbers)\n",
    "\n",
    "mean = compute_mean([2, 4, 6, 8])\n",
    "print(f'{mean}')"
   ]
  },
  {
   "cell_type": "markdown",
   "id": "b55df337-8a7f-4bed-9879-6037a528de3e",
   "metadata": {},
   "source": [
    "The function above will calculate the mean of a set of value of numbers that is provided. Mean is equivalent to the sum of all values in the dataset divided by the total number of observations used that are part of the data set. The concept of mean can be visualized in the following formula. \n",
    "\n",
    "$\\bar{x} = \\frac{x_1 + x_2 + \\cdots + x_n}{n} $ \n",
    "\n",
    "$\\bar{x} = \\frac{1}{n} \\left( \\sum_{i=1}^n x_i \\right)$"
   ]
  },
  {
   "cell_type": "code",
   "execution_count": null,
   "id": "c071f439-c83d-4a71-bb57-b7441f5ea282",
   "metadata": {},
   "outputs": [],
   "source": []
  },
  {
   "cell_type": "code",
   "execution_count": null,
   "id": "cfbcffbc-e467-4bd6-8d23-a174b2775a53",
   "metadata": {},
   "outputs": [],
   "source": []
  }
 ],
 "metadata": {
  "kernelspec": {
   "display_name": "Python [conda env:base] *",
   "language": "python",
   "name": "conda-base-py"
  },
  "language_info": {
   "codemirror_mode": {
    "name": "ipython",
    "version": 3
   },
   "file_extension": ".py",
   "mimetype": "text/x-python",
   "name": "python",
   "nbconvert_exporter": "python",
   "pygments_lexer": "ipython3",
   "version": "3.13.5"
  }
 },
 "nbformat": 4,
 "nbformat_minor": 5
}
